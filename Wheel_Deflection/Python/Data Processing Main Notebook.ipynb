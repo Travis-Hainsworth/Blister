{
 "cells": [
  {
   "cell_type": "code",
   "execution_count": 1,
   "id": "11bfaee4",
   "metadata": {},
   "outputs": [
    {
     "ename": "FileNotFoundError",
     "evalue": "[Errno 2] No such file or directory: 'C:\\\\Users\\\\ethan\\\\Test\\\\WAOU_Mocap_Data'",
     "output_type": "error",
     "traceback": [
      "\u001b[0;31m---------------------------------------------------------------------------\u001b[0m",
      "\u001b[0;31mFileNotFoundError\u001b[0m                         Traceback (most recent call last)",
      "Cell \u001b[0;32mIn[1], line 4\u001b[0m\n\u001b[1;32m      1\u001b[0m \u001b[38;5;28;01mimport\u001b[39;00m \u001b[38;5;21;01mnumpy\u001b[39;00m \u001b[38;5;28;01mas\u001b[39;00m \u001b[38;5;21;01mnp\u001b[39;00m\n\u001b[1;32m      2\u001b[0m \u001b[38;5;28;01mfrom\u001b[39;00m \u001b[38;5;21;01mmatplotlib\u001b[39;00m \u001b[38;5;28;01mimport\u001b[39;00m ticker\n\u001b[0;32m----> 4\u001b[0m \u001b[38;5;28;01mfrom\u001b[39;00m \u001b[38;5;21;01mmain\u001b[39;00m \u001b[38;5;28;01mimport\u001b[39;00m \u001b[38;5;241m*\u001b[39m\n\u001b[1;32m      5\u001b[0m \u001b[38;5;28;01mimport\u001b[39;00m \u001b[38;5;21;01mmatplotlib\u001b[39;00m\u001b[38;5;21;01m.\u001b[39;00m\u001b[38;5;21;01mpyplot\u001b[39;00m \u001b[38;5;28;01mas\u001b[39;00m \u001b[38;5;21;01mplt\u001b[39;00m\n",
      "File \u001b[0;32m~/Desktop/Blister Labs/GitHub/Blister/Wheel_Deflection/Python/main.py:10\u001b[0m\n\u001b[1;32m      6\u001b[0m \u001b[38;5;28;01mimport\u001b[39;00m \u001b[38;5;21;01mmatplotlib\u001b[39;00m\u001b[38;5;21;01m.\u001b[39;00m\u001b[38;5;21;01mpyplot\u001b[39;00m \u001b[38;5;28;01mas\u001b[39;00m \u001b[38;5;21;01mplt\u001b[39;00m\n\u001b[1;32m      8\u001b[0m \u001b[38;5;66;03m# Import mocap data. Make sure every file you want to look at is in the folder you input.\u001b[39;00m\n\u001b[1;32m      9\u001b[0m \u001b[38;5;66;03m# Don't remove the \"r\" before the file path.\u001b[39;00m\n\u001b[0;32m---> 10\u001b[0m list_mocap_data \u001b[38;5;241m=\u001b[39m \u001b[43mgetMocapData\u001b[49m\u001b[43m(\u001b[49m\u001b[38;5;124;43mr\u001b[39;49m\u001b[38;5;124;43m\"\u001b[39;49m\u001b[38;5;124;43mC:\u001b[39;49m\u001b[38;5;124;43m\\\u001b[39;49m\u001b[38;5;124;43mUsers\u001b[39;49m\u001b[38;5;124;43m\\\u001b[39;49m\u001b[38;5;124;43methan\u001b[39;49m\u001b[38;5;124;43m\\\u001b[39;49m\u001b[38;5;124;43mTest\u001b[39;49m\u001b[38;5;124;43m\\\u001b[39;49m\u001b[38;5;124;43mWAOU_Mocap_Data\u001b[39;49m\u001b[38;5;124;43m\"\u001b[39;49m\u001b[43m)\u001b[49m\n\u001b[1;32m     11\u001b[0m clean_mocap \u001b[38;5;241m=\u001b[39m clean_mocap_data(list_mocap_data)\n\u001b[1;32m     13\u001b[0m \u001b[38;5;66;03m# Import mts data. Make sure every file you want to look at is in the folder you input.\u001b[39;00m\n\u001b[1;32m     14\u001b[0m \u001b[38;5;66;03m# Don't remove the \"r\" before teh file path.\u001b[39;00m\n",
      "File \u001b[0;32m~/Desktop/Blister Labs/GitHub/Blister/Wheel_Deflection/Python/readInDataFiles.py:47\u001b[0m, in \u001b[0;36mgetMocapData\u001b[0;34m(folder_dir)\u001b[0m\n\u001b[1;32m     45\u001b[0m \u001b[38;5;28;01mdef\u001b[39;00m \u001b[38;5;21mgetMocapData\u001b[39m(folder_dir):\n\u001b[1;32m     46\u001b[0m     combinedCSVs \u001b[38;5;241m=\u001b[39m []\n\u001b[0;32m---> 47\u001b[0m     files \u001b[38;5;241m=\u001b[39m \u001b[43mlistdir\u001b[49m\u001b[43m(\u001b[49m\u001b[43mfolder_dir\u001b[49m\u001b[43m)\u001b[49m\n\u001b[1;32m     48\u001b[0m     files\u001b[38;5;241m.\u001b[39msort()\n\u001b[1;32m     50\u001b[0m     \u001b[38;5;28;01mfor\u001b[39;00m file \u001b[38;5;129;01min\u001b[39;00m files:\n",
      "\u001b[0;31mFileNotFoundError\u001b[0m: [Errno 2] No such file or directory: 'C:\\\\Users\\\\ethan\\\\Test\\\\WAOU_Mocap_Data'"
     ]
    }
   ],
   "source": [
    "import numpy as np\n",
    "from matplotlib import ticker\n",
    "\n",
    "from main import *\n",
    "import matplotlib.pyplot as plt"
   ]
  },
  {
   "cell_type": "code",
   "execution_count": null,
   "id": "6d785179",
   "metadata": {},
   "outputs": [],
   "source": []
  }
 ],
 "metadata": {
  "kernelspec": {
   "display_name": "Python 3 (ipykernel)",
   "language": "python",
   "name": "python3"
  },
  "language_info": {
   "codemirror_mode": {
    "name": "ipython",
    "version": 3
   },
   "file_extension": ".py",
   "mimetype": "text/x-python",
   "name": "python",
   "nbconvert_exporter": "python",
   "pygments_lexer": "ipython3",
   "version": "3.8.8"
  }
 },
 "nbformat": 4,
 "nbformat_minor": 5
}
