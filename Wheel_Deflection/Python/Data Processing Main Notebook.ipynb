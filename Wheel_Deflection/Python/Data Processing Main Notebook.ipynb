{
 "cells": [
  {
   "cell_type": "code",
   "execution_count": 1,
   "id": "d2bd2a06",
   "metadata": {},
   "outputs": [],
   "source": [
    "import numpy as np\n",
    "from matplotlib import ticker\n",
    "\n",
    "from main import *\n",
    "import matplotlib.pyplot as plt"
   ]
  },
  {
   "cell_type": "code",
   "execution_count": 2,
   "id": "0c80320f",
   "metadata": {},
   "outputs": [
    {
     "ename": "TypeError",
     "evalue": "list indices must be integers or slices, not str",
     "output_type": "error",
     "traceback": [
      "\u001b[0;31m---------------------------------------------------------------------------\u001b[0m",
      "\u001b[0;31mTypeError\u001b[0m                                 Traceback (most recent call last)",
      "Cell \u001b[0;32mIn[2], line 4\u001b[0m\n\u001b[1;32m      1\u001b[0m filePathMocap \u001b[38;5;241m=\u001b[39m \u001b[38;5;124mr\u001b[39m\u001b[38;5;124m\"\u001b[39m\u001b[38;5;124m/Users/jacobvogel/Desktop/Blister Labs/GitHub/Blister/Wheel_Deflection/0_Data/DTS 2-10-23 Tire On/Optitrack Data\u001b[39m\u001b[38;5;124m\"\u001b[39m\n\u001b[1;32m      2\u001b[0m filePathMTS \u001b[38;5;241m=\u001b[39m \u001b[38;5;124mr\u001b[39m\u001b[38;5;124m\"\u001b[39m\u001b[38;5;124m/Users/jacobvogel/Desktop/Blister Labs/GitHub/Blister/Wheel_Deflection/0_Data/DTS 2-10-23 Tire On/MTS Data\u001b[39m\u001b[38;5;124m\"\u001b[39m\n\u001b[0;32m----> 4\u001b[0m syncedData \u001b[38;5;241m=\u001b[39m \u001b[43mdataProcessingMain\u001b[49m\u001b[43m(\u001b[49m\u001b[43mfilePathMocap\u001b[49m\u001b[43m,\u001b[49m\u001b[43m \u001b[49m\u001b[43mfilePathMTS\u001b[49m\u001b[43m)\u001b[49m\n",
      "File \u001b[0;32m~/Desktop/Blister Labs/GitHub/Blister/Wheel_Deflection/Python/main.py:34\u001b[0m, in \u001b[0;36mdataProcessingMain\u001b[0;34m(filePathOptitrack, filePathMTS)\u001b[0m\n\u001b[1;32m     29\u001b[0m radial_compression_data_inches \u001b[38;5;241m=\u001b[39m [i \u001b[38;5;241m*\u001b[39m \u001b[38;5;241m0.0393701\u001b[39m \u001b[38;5;28;01mfor\u001b[39;00m i \u001b[38;5;129;01min\u001b[39;00m radial_compression_data]\n\u001b[1;32m     31\u001b[0m load_compression_data \u001b[38;5;241m=\u001b[39m pd\u001b[38;5;241m.\u001b[39mDataFrame({\u001b[38;5;124m'\u001b[39m\u001b[38;5;124mLoad (lbf)\u001b[39m\u001b[38;5;124m'\u001b[39m: np\u001b[38;5;241m.\u001b[39mdouble(clean_mts[counter][\u001b[38;5;124m'\u001b[39m\u001b[38;5;124mLoad (lbf)\u001b[39m\u001b[38;5;124m'\u001b[39m]),\n\u001b[1;32m     32\u001b[0m                                       \u001b[38;5;124m'\u001b[39m\u001b[38;5;124mCompression (in)\u001b[39m\u001b[38;5;124m'\u001b[39m: np\u001b[38;5;241m.\u001b[39mdouble(radial_compression_data_inches)})\n\u001b[0;32m---> 34\u001b[0m synced_data[\u001b[38;5;124m'\u001b[39m\u001b[38;5;124mCompression (in)\u001b[39m\u001b[38;5;124m'\u001b[39m] \u001b[38;5;241m=\u001b[39m np\u001b[38;5;241m.\u001b[39mdouble(radial_compression_data_inches)\n\u001b[1;32m     36\u001b[0m fig, ax \u001b[38;5;241m=\u001b[39m plt\u001b[38;5;241m.\u001b[39msubplots(figsize\u001b[38;5;241m=\u001b[39m(\u001b[38;5;241m12\u001b[39m, \u001b[38;5;241m6\u001b[39m))\n\u001b[1;32m     37\u001b[0m ax\u001b[38;5;241m.\u001b[39mplot(load_compression_data[\u001b[38;5;124m'\u001b[39m\u001b[38;5;124mLoad (lbf)\u001b[39m\u001b[38;5;124m'\u001b[39m], load_compression_data[\u001b[38;5;124m'\u001b[39m\u001b[38;5;124mCompression (in)\u001b[39m\u001b[38;5;124m'\u001b[39m])\n",
      "\u001b[0;31mTypeError\u001b[0m: list indices must be integers or slices, not str"
     ]
    }
   ],
   "source": [
    "filePathMocap = r\"/Users/jacobvogel/Desktop/Blister Labs/GitHub/Blister/Wheel_Deflection/0_Data/DTS 2-10-23 Tire On/Optitrack Data\"\n",
    "filePathMTS = r\"/Users/jacobvogel/Desktop/Blister Labs/GitHub/Blister/Wheel_Deflection/0_Data/DTS 2-10-23 Tire On/MTS Data\"\n",
    "\n",
    "syncedData = dataProcessingMain(filePathMocap, filePathMTS)\n"
   ]
  },
  {
   "cell_type": "code",
   "execution_count": null,
   "id": "f1770170",
   "metadata": {},
   "outputs": [],
   "source": [
    "syncedData[1]"
   ]
  },
  {
   "cell_type": "code",
   "execution_count": null,
   "id": "a9ec0248",
   "metadata": {},
   "outputs": [],
   "source": [
    "# Import mocap data. Make sure every file you want to look at is in the folder you input.\n",
    "    # Don't remove the \"r\" before the file path.\n",
    "    list_mocap_data = getMocapData(filePathOptitrack)\n",
    "    clean_mocap = clean_mocap_data(list_mocap_data)\n",
    "\n",
    "    # Import mts data. Make sure every file you want to look at is in the folder you input.\n",
    "    # Don't remove the \"r\" before teh file path.\n",
    "    list_mts_data = getMTSData(filePathMTS)#\"r{}\".format(filePath))\n",
    "    clean_mts = clean_MTS_data(list_mts_data)\n",
    "\n",
    "    # Make both of the files the same size so they can be graphed.\n",
    "    synced_data = mocap_synced(clean_mocap, clean_mts)"
   ]
  }
 ],
 "metadata": {
  "kernelspec": {
   "display_name": "Python 3 (ipykernel)",
   "language": "python",
   "name": "python3"
  },
  "language_info": {
   "codemirror_mode": {
    "name": "ipython",
    "version": 3
   },
   "file_extension": ".py",
   "mimetype": "text/x-python",
   "name": "python",
   "nbconvert_exporter": "python",
   "pygments_lexer": "ipython3",
   "version": "3.8.8"
  }
 },
 "nbformat": 4,
 "nbformat_minor": 5
}
